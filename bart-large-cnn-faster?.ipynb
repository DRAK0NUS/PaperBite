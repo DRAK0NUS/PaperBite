{
 "cells": [
  {
   "cell_type": "code",
   "execution_count": 1,
   "metadata": {},
   "outputs": [
    {
     "name": "stdout",
     "output_type": "stream",
     "text": [
      "Requirement already satisfied: transformers in /Users/Syavin/opt/anaconda3/lib/python3.9/site-packages (4.30.1)\n",
      "Requirement already satisfied: filelock in /Users/Syavin/opt/anaconda3/lib/python3.9/site-packages (from transformers) (3.6.0)\n",
      "Requirement already satisfied: tokenizers!=0.11.3,<0.14,>=0.11.1 in /Users/Syavin/opt/anaconda3/lib/python3.9/site-packages (from transformers) (0.13.3)\n",
      "Requirement already satisfied: pyyaml>=5.1 in /Users/Syavin/opt/anaconda3/lib/python3.9/site-packages (from transformers) (6.0)\n",
      "Requirement already satisfied: numpy>=1.17 in /Users/Syavin/opt/anaconda3/lib/python3.9/site-packages (from transformers) (1.21.5)\n",
      "Requirement already satisfied: regex!=2019.12.17 in /Users/Syavin/opt/anaconda3/lib/python3.9/site-packages (from transformers) (2022.3.15)\n",
      "Requirement already satisfied: huggingface-hub<1.0,>=0.14.1 in /Users/Syavin/opt/anaconda3/lib/python3.9/site-packages (from transformers) (0.15.1)\n",
      "Requirement already satisfied: requests in /Users/Syavin/opt/anaconda3/lib/python3.9/site-packages (from transformers) (2.28.2)\n",
      "Requirement already satisfied: safetensors>=0.3.1 in /Users/Syavin/opt/anaconda3/lib/python3.9/site-packages (from transformers) (0.3.1)\n",
      "Requirement already satisfied: tqdm>=4.27 in /Users/Syavin/opt/anaconda3/lib/python3.9/site-packages (from transformers) (4.64.0)\n",
      "Requirement already satisfied: packaging>=20.0 in /Users/Syavin/opt/anaconda3/lib/python3.9/site-packages (from transformers) (21.3)\n",
      "Requirement already satisfied: fsspec in /Users/Syavin/opt/anaconda3/lib/python3.9/site-packages (from huggingface-hub<1.0,>=0.14.1->transformers) (2022.2.0)\n",
      "Requirement already satisfied: typing-extensions>=3.7.4.3 in /Users/Syavin/opt/anaconda3/lib/python3.9/site-packages (from huggingface-hub<1.0,>=0.14.1->transformers) (4.5.0)\n",
      "Requirement already satisfied: pyparsing!=3.0.5,>=2.0.2 in /Users/Syavin/opt/anaconda3/lib/python3.9/site-packages (from packaging>=20.0->transformers) (3.0.4)\n",
      "Requirement already satisfied: charset-normalizer<4,>=2 in /Users/Syavin/opt/anaconda3/lib/python3.9/site-packages (from requests->transformers) (2.0.4)\n",
      "Requirement already satisfied: idna<4,>=2.5 in /Users/Syavin/opt/anaconda3/lib/python3.9/site-packages (from requests->transformers) (3.3)\n",
      "Requirement already satisfied: certifi>=2017.4.17 in /Users/Syavin/opt/anaconda3/lib/python3.9/site-packages (from requests->transformers) (2021.10.8)\n",
      "Requirement already satisfied: urllib3<1.27,>=1.21.1 in /Users/Syavin/opt/anaconda3/lib/python3.9/site-packages (from requests->transformers) (1.26.15)\n"
     ]
    }
   ],
   "source": [
    "# Install required libraries\n",
    "!pip install transformers\n",
    "\n",
    "# Import necessary modules\n",
    "from transformers import pipeline\n",
    "import concurrent.futures\n",
    "\n",
    "# Pick model\n",
    "model_name = \"facebook/bart-large-cnn\"\n",
    "\n",
    "# Define summarization pipeline\n",
    "summarizer = pipeline(\n",
    "    \"summarization\",\n",
    "    model=model_name,\n",
    "    framework=\"pt\"\n",
    ")"
   ]
  },
  {
   "cell_type": "code",
   "execution_count": 2,
   "metadata": {},
   "outputs": [],
   "source": [
    "\n",
    "# Example text\n",
    "example_text = \"\"\"\n",
    "World War II, spanning from 1939 to 1945, was one of the deadliest and most significant conflicts in human history. It involved the majority of nations, divided into two opposing alliances: the Allies and the Axis powers. Here is a concise history of World War II.\n",
    "\n",
    "The war began on September 1, 1939, when Germany, under Adolf Hitler, invaded Poland. In response, France and the United Kingdom declared war on Germany. The German military swiftly overwhelmed Poland, utilizing a tactic known as blitzkrieg. Hitler's aggression continued, leading to the conquest of Denmark, Norway, the Netherlands, Belgium, and France in 1940.\n",
    "\n",
    "In 1941, Germany violated a non-aggression pact with the Soviet Union and launched a massive invasion. Initially, the Germans made significant gains but faced fierce resistance and harsh weather conditions. Eventually, the Soviet Union, under Joseph Stalin, repelled the German forces and began pushing them back toward Berlin.\n",
    "\n",
    "Meanwhile, in the Pacific, Imperial Japan sought to expand its empire. In 1941, Japan attacked the United States naval base at Pearl Harbor, drawing America into the war. The Pacific theater witnessed brutal battles, such as Guadalcanal, Midway, and Iwo Jima, as the Allies gradually pushed back Japanese forces.\n",
    "\n",
    "Back in Europe, the turning point came in 1942 with the Battle of Stalingrad. The Soviet Union successfully defended the city against a prolonged German siege, marking a major setback for Hitler's forces. In 1944, the Allies launched Operation Overlord, a massive amphibious invasion of German-occupied France. D-Day, as it is famously known, resulted in the establishment of a western front, leading to the liberation of Paris and the subsequent push into Germany.\n",
    "\n",
    "On the Eastern Front, the Soviet Union launched a massive offensive, pushing the German forces steadily backward. In 1945, Soviet troops reached Berlin, and Hitler committed suicide. Germany surrendered unconditionally in May 1945. Meanwhile, in the Pacific, the United States utilized atomic bombs on the cities of Hiroshima and Nagasaki, forcing Japan's surrender in August 1945.\n",
    "\n",
    "World War II resulted in the deaths of an estimated 70-85 million people, including civilians and military personnel. It also saw the implementation of the Holocaust, a systematic genocide that targeted six million Jews. The war led to the emergence of the United States and the Soviet Union as superpowers and the subsequent Cold War between them.\n",
    "\n",
    "In an effort to prevent future global conflicts, the United Nations was established in 1945. It aimed to promote peace and international cooperation. The devastating impact of World War II and its far-reaching consequences forever changed the course of history and serves as a stark reminder of the horrors of war\n",
    "\"\"\"\n"
   ]
  },
  {
   "cell_type": "code",
   "execution_count": 3,
   "metadata": {},
   "outputs": [
    {
     "name": "stdout",
     "output_type": "stream",
     "text": [
      "World War II, spanning from 1939 to 1945, was one of the deadliest and most significant conflicts in human history. It involved the majority of nations, divided into two opposing alliances: the Allies and the Axis powers. World War II resulted in the deaths of an estimated 70-85 million people. It also saw the implementation of the Holocaust, a systematic genocide that targeted six million Jews. The war led to the emergence of the United States and the Soviet Union as superpowers. In 1941, Japan attacked the United States naval base at Pearl Harbor, drawing America into the war. The Pacific theater witnessed brutal battles, such as Guadalcanal, Midway, and Iwo Jima. Back in Europe, the turning point came in 1942 with the Battle of Stalingrad.\n"
     ]
    }
   ],
   "source": [
    "# Split the input text into chunks to fit within the model's maximum token limit\n",
    "max_chunk_length = 1024  # Maximum length of each chunk\n",
    "text_chunks = [example_text[i:i+max_chunk_length] for i in range(0, len(example_text), max_chunk_length)]\n",
    "\n",
    "# Function to summarize a chunk\n",
    "def summarize_chunk(chunk):\n",
    "    summary = summarizer(chunk, min_length=30, max_length=100)\n",
    "    return summary[0]['summary_text']\n",
    "\n",
    "# Create a list to store the generated summaries\n",
    "all_summaries = []\n",
    "\n",
    "# Generate summaries for each text chunk using parallel processing\n",
    "with concurrent.futures.ThreadPoolExecutor() as executor:\n",
    "    # Submit summarization tasks for each chunk\n",
    "    future_summaries = [executor.submit(summarize_chunk, chunk) for chunk in text_chunks]\n",
    "\n",
    "    # Retrieve the summaries as they complete\n",
    "    for future in concurrent.futures.as_completed(future_summaries):\n",
    "        summary = future.result()\n",
    "        all_summaries.append(summary)\n",
    "\n",
    "# Combine the summaries into a single coherent summary\n",
    "combined_summary = \" \".join(all_summaries)\n",
    "\n",
    "# Print the summarized text\n",
    "print(combined_summary)"
   ]
  }
 ],
 "metadata": {
  "kernelspec": {
   "display_name": "Python 3",
   "language": "python",
   "name": "python3"
  },
  "language_info": {
   "codemirror_mode": {
    "name": "ipython",
    "version": 3
   },
   "file_extension": ".py",
   "mimetype": "text/x-python",
   "name": "python",
   "nbconvert_exporter": "python",
   "pygments_lexer": "ipython3",
   "version": "3.11.4"
  },
  "orig_nbformat": 4
 },
 "nbformat": 4,
 "nbformat_minor": 2
}
